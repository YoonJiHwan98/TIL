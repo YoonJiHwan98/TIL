{
  "nbformat": 4,
  "nbformat_minor": 0,
  "metadata": {
    "colab": {
      "name": "health.ipynb",
      "private_outputs": true,
      "provenance": [],
      "collapsed_sections": [],
      "mount_file_id": "1kPCHKMTpe56W4zKbE7A_mTTnx68LHkl3",
      "authorship_tag": "ABX9TyNM8WCujBpAhXze+xq7RgAr",
      "include_colab_link": true
    },
    "kernelspec": {
      "name": "python3",
      "display_name": "Python 3"
    },
    "language_info": {
      "name": "python"
    }
  },
  "cells": [
    {
      "cell_type": "markdown",
      "metadata": {
        "id": "view-in-github",
        "colab_type": "text"
      },
      "source": [
        "<a href=\"https://colab.research.google.com/github/YoonJiHwan98/TIL/blob/main/health.ipynb\" target=\"_parent\"><img src=\"https://colab.research.google.com/assets/colab-badge.svg\" alt=\"Open In Colab\"/></a>"
      ]
    },
    {
      "cell_type": "code",
      "metadata": {
        "id": "wvl85vsisW4y"
      },
      "source": [
        "import numpy as np\n",
        "import pandas as pd\n",
        "from sklearn.cluster import KMeans\n",
        "from sklearn.datasets import make_blobs\n",
        "from sklearn import preprocessing\n",
        "import matplotlib as mpl\n",
        "import matplotlib.pyplot as plt\n",
        "import matplotlib.font_manager as fm\n",
        "import seaborn as sb\n",
        "from sklearn.preprocessing import StandardScaler\n",
        "from sklearn.decomposition import PCA"
      ],
      "execution_count": null,
      "outputs": []
    },
    {
      "cell_type": "code",
      "metadata": {
        "id": "BOsiEbUGEM9E"
      },
      "source": [
        "!sudo apt-get install -y fonts-nanum\n",
        "!sudo fc-cache -fv\n",
        "!rm ~/.cache/matplotlib -rf"
      ],
      "execution_count": null,
      "outputs": []
    },
    {
      "cell_type": "code",
      "metadata": {
        "id": "1qrWYaRB3VxX"
      },
      "source": [
        "# 한글폰트 사용 in colab\n",
        "%matplotlib inline  \n",
        "\n",
        "!apt-get update -qq\n",
        "!apt-get install fonts-nanum* -qq\n",
        "\n",
        "path = '/usr/share/fonts/truetype/nanum/NanumBarunGothic.ttf' \n",
        "font_name = fm.FontProperties(fname=path, size=10).get_name()\n",
        "print(font_name)\n",
        "plt.rc('font', family=font_name)\n"
      ],
      "execution_count": null,
      "outputs": []
    },
    {
      "cell_type": "code",
      "metadata": {
        "id": "nhzfqGvH97pb"
      },
      "source": [
        "df1 = pd.read_csv(\"/content/drive/MyDrive/content/국민체육/KS_NFA_FTNESS_MESURE_ITEM_MESURE_INFO_202106.csv\")\n",
        "df2 = pd.read_csv(\"/content/drive/MyDrive/content/국민체육/국민체력측정.csv\")"
      ],
      "execution_count": null,
      "outputs": []
    },
    {
      "cell_type": "code",
      "metadata": {
        "id": "l5FMW55c0fDL"
      },
      "source": [
        "df1.head()"
      ],
      "execution_count": null,
      "outputs": []
    },
    {
      "cell_type": "code",
      "metadata": {
        "id": "S4i4riat1Fhq"
      },
      "source": [
        "df1.isnull().sum()"
      ],
      "execution_count": null,
      "outputs": []
    },
    {
      "cell_type": "code",
      "metadata": {
        "id": "fzDZsHYQ5AJO"
      },
      "source": [
        ""
      ],
      "execution_count": null,
      "outputs": []
    },
    {
      "cell_type": "code",
      "metadata": {
        "id": "4AbXNM49zfoN"
      },
      "source": [
        "df1 = df1.drop([\"ITEM_F011\"],axis=1)"
      ],
      "execution_count": null,
      "outputs": []
    },
    {
      "cell_type": "code",
      "metadata": {
        "id": "pl1Sd7Gn1A8n"
      },
      "source": [
        "df1 = df1.drop([\"ITEM_F013\",\"ITEM_F014\",\"ITEM_F015\",\"ITEM_F016\",\"ITEM_F017\",],axis = 1)"
      ],
      "execution_count": null,
      "outputs": []
    },
    {
      "cell_type": "code",
      "metadata": {
        "id": "FJofzmhR2YKK"
      },
      "source": [
        "df1 = df1.drop([\"ITEM_F027\",\"ITEM_F029\",\"ITEM_F030\",\"ITEM_F031\",\"ITEM_F032\",\"ITEM_F033\",\"ITEM_F034\",\"ITEM_F035\",\"ITEM_F036\",\"ITEM_F037\",\"ITEM_F038\",\"ITEM_F039\",\"ITEM_F040\",\"ITEM_F041\"],axis = 1)"
      ],
      "execution_count": null,
      "outputs": []
    },
    {
      "cell_type": "code",
      "metadata": {
        "id": "fc64vOmx29PA"
      },
      "source": [
        "df1.drop([\"INPUT_GBN\"],axis = 1)"
      ],
      "execution_count": null,
      "outputs": []
    },
    {
      "cell_type": "code",
      "metadata": {
        "id": "vSepy6v64Q__"
      },
      "source": [
        "df1 = df1.drop([\"ITEM_F024\"],axis = 1)"
      ],
      "execution_count": null,
      "outputs": []
    },
    {
      "cell_type": "code",
      "metadata": {
        "id": "iLOEgFBu579k"
      },
      "source": [
        "df1_2 = df1.drop([\"ITEM_F021\",\"ITEM_F023\",\"ITEM_F025\",\"ITEM_F026\"],axis = 1)"
      ],
      "execution_count": null,
      "outputs": []
    },
    {
      "cell_type": "code",
      "metadata": {
        "id": "9zGflQ38AHi2"
      },
      "source": [
        "df3 = df1[[\"AGE_GBN\",\"TEST_AGE\",\"CERT_GBN\",\"TEST_SEX\",\"ITEM_F001\",\"ITEM_F002\",\"ITEM_F003\",\"ITEM_F012\",\"ITEM_F018\",\"ITEM_F019\",\"ITEM_F020\",\"ITEM_F021\",\"ITEM_F022\",\"ITEM_F028\"]]"
      ],
      "execution_count": null,
      "outputs": []
    },
    {
      "cell_type": "code",
      "metadata": {
        "id": "bUclPp0yBZ35"
      },
      "source": [
        "df3 = df3.dropna(axis = 0,how='any')"
      ],
      "execution_count": null,
      "outputs": []
    },
    {
      "cell_type": "code",
      "metadata": {
        "id": "CzQ-62s_CYzO"
      },
      "source": [
        "df3"
      ],
      "execution_count": null,
      "outputs": []
    },
    {
      "cell_type": "code",
      "metadata": {
        "id": "VT7XAEor4ud0"
      },
      "source": [
        "df3.rename(columns = {'ITEM_F003' : '체지방율','AGE_GBN' : '나이대','TEST_AGE' : '나이','CERT_GBN' : '상장 구분','TEST_SEX' : '성별','ITEM_F001' : '키','ITEM_F002' : '체중','ITEM_F028' : '상대 악력','ITEM_F012' : '윗몸 앞으로 굽히기','ITEM_F018' : 'BMI','ITEM_F019' : '윗몸일으키기','ITEM_F020' : '왕복오래달리기','ITEM_F021' : '10M 4회 왕복달리기','ITEM_F022' : '제자리 멀리뛰기'}, inplace = True)\n"
      ],
      "execution_count": null,
      "outputs": []
    },
    {
      "cell_type": "code",
      "metadata": {
        "id": "QC094HmK9PyT"
      },
      "source": [
        "df3 = df3.drop(columns=['상장 구분','나이대'])"
      ],
      "execution_count": null,
      "outputs": []
    },
    {
      "cell_type": "code",
      "metadata": {
        "id": "O5osSVIhuI4e"
      },
      "source": [
        "df3.describe()"
      ],
      "execution_count": null,
      "outputs": []
    },
    {
      "cell_type": "code",
      "metadata": {
        "id": "vSr5RPCy1rTE"
      },
      "source": [
        "df3['성별'] = df3['성별'].map({'M':0, 'F':1})"
      ],
      "execution_count": null,
      "outputs": []
    },
    {
      "cell_type": "code",
      "metadata": {
        "id": "SGFxTd5e144X"
      },
      "source": [
        "df3.head()"
      ],
      "execution_count": null,
      "outputs": []
    },
    {
      "cell_type": "code",
      "metadata": {
        "id": "_wBpFiboBThJ"
      },
      "source": [
        "\n",
        "df_scaled = StandardScaler().fit_transform(df3) \n",
        "pca = PCA(n_components=2) \n",
        "pca.fit(df_scaled) \n",
        "df_pca = pca.transform(df_scaled) \n",
        "print(df_pca.shape,df_scaled.shape)\n"
      ],
      "execution_count": null,
      "outputs": []
    },
    {
      "cell_type": "code",
      "metadata": {
        "id": "YXcQQlk1CoTs"
      },
      "source": [
        "phy = df3[['나이','성별','키','체중','체지방율','BMI']]\n",
        "mot = df3[['윗몸 앞으로 굽히기','윗몸일으키기','왕복오래달리기','10M 4회 왕복달리기','제자리 멀리뛰기','상대 악력']]"
      ],
      "execution_count": null,
      "outputs": []
    },
    {
      "cell_type": "code",
      "metadata": {
        "id": "GxmEx1qzCj9b"
      },
      "source": [
        "phy_scaled = StandardScaler().fit_transform(phy)\n",
        "mot_scaled = StandardScaler().fit_transform(mot) \n",
        "pca1 = PCA(n_components= 1)\n",
        "pca1.fit(phy_scaled)\n",
        "pca1.fit(mot_scaled)\n",
        "X_pca_phy = pca1.fit_transform(phy_scaled)\n",
        "X_pca_mot = pca1.fit_transform(mot_scaled)"
      ],
      "execution_count": null,
      "outputs": []
    },
    {
      "cell_type": "code",
      "metadata": {
        "id": "iUTAhS4K8lWJ"
      },
      "source": [
        "df3['Physical'] = X_pca_phy\n",
        "df3['Moter Ability'] = X_pca_mot"
      ],
      "execution_count": null,
      "outputs": []
    },
    {
      "cell_type": "code",
      "metadata": {
        "id": "b_0VLCwt7SSu"
      },
      "source": [
        "xf = X_pca_mot\n",
        "yf = X_pca_phy\n",
        "plt.figure()\n",
        "plt.xlabel('운동 능력')\n",
        "plt.ylabel('신체능력')\n",
        "plt.scatter(xf, yf)\n",
        "plt.show()"
      ],
      "execution_count": null,
      "outputs": []
    },
    {
      "cell_type": "code",
      "metadata": {
        "id": "jEDr9Ga-CkaM"
      },
      "source": [
        "processed_data = df3.copy()\n",
        "clusters = 6\n",
        "model = KMeans(init = 'k-means++', \n",
        "               n_clusters = clusters, \n",
        "               n_init = 100)\n",
        "model.fit(df3[['Moter Ability','Physical']])\n",
        "labels = model.labels_\n",
        "df3['분류 그룹'] = labels"
      ],
      "execution_count": null,
      "outputs": []
    },
    {
      "cell_type": "code",
      "metadata": {
        "id": "zgIVXQVICzRe"
      },
      "source": [
        "df3"
      ],
      "execution_count": null,
      "outputs": []
    },
    {
      "cell_type": "code",
      "metadata": {
        "id": "lhbcA-6iGDla"
      },
      "source": [
        "plt.figure(figsize=(15,6))\n",
        "# 서브플롯의 라벨링\n",
        "plt.xlabel('신체 능력')\n",
        "plt.ylabel('운동 능력')\n",
        "# 클러스터링 그리기\n",
        "plt.scatter(df3['Physical'], df3['Moter Ability'], c=df3['분류 그룹'])\n",
        "plt.show()"
      ],
      "execution_count": null,
      "outputs": []
    },
    {
      "cell_type": "code",
      "metadata": {
        "id": "6R3bUzjy_RSw"
      },
      "source": [
        "for i in range(1,7):\n",
        "        plt.figure(figsize=(15,6))\n",
        "       # 클러스터 생성\n",
        "        estimator = KMeans(i)\n",
        "        ids = estimator.fit_predict(df3[['Physical','Moter Ability']])\n",
        "       # 2행 3열을 가진 서브플롯 추가 (인덱스 = i)\n",
        "        plt.subplot(3, 2, i)\n",
        "        plt.tight_layout()\n",
        "        # 서브플롯의 라벨링\n",
        "        plt.title(\"K value = {}\".format(i))\n",
        "        plt.xlabel('신체능력')\n",
        "        plt.ylabel('운동능력')\n",
        "        # 클러스터링 그리기\n",
        "        plt.scatter(df3['Physical'], df3['Moter Ability'], c=ids)\n",
        "plt.show()"
      ],
      "execution_count": null,
      "outputs": []
    },
    {
      "cell_type": "code",
      "metadata": {
        "id": "mUGR5GDT8Fre"
      },
      "source": [
        "processed_data = df3.copy()\n",
        "processed_data2 = df3.copy()\n",
        "# 데이터 전처리 - 정규화를 위한 작업\n",
        "scaler = preprocessing.MinMaxScaler()\n",
        "processed_data[['BMI', '제자리 멀리뛰기']] = scaler.fit_transform(processed_data[['BMI', '제자리 멀리뛰기']])\n",
        "# 화면(figure) 생성\n",
        "plt.figure(figsize = (10, 6))"
      ],
      "execution_count": null,
      "outputs": []
    },
    {
      "cell_type": "code",
      "metadata": {
        "id": "-6afhDt66hmZ"
      },
      "source": [
        "for i in range(1,7):\n",
        "       # 클러스터 생성\n",
        "        plt.figure(figsize=(15,6))\n",
        "        estimator = KMeans(i)\n",
        "        ids = estimator.fit_predict(processed_data)\n",
        "       # 2행 3열을 가진 서브플롯 추가 (인덱스 = i)\n",
        "        plt.subplot(3, 2, i)\n",
        "        plt.tight_layout()\n",
        "        # 서브플롯의 라벨링\n",
        "        plt.title(\"K value = {}\".format(i))\n",
        "        # 클러스터링 그리기\n",
        "        plt.scatter(processed_data['BMI'], processed_data[''], c=ids)  \n",
        "plt.show()"
      ],
      "execution_count": null,
      "outputs": []
    },
    {
      "cell_type": "code",
      "metadata": {
        "id": "XDfM2EXmG8lW"
      },
      "source": [
        "group1 = df3[df3['분류 그룹'] == 1]\n",
        "group2 = df3[df3['분류 그룹'] == 2]\n",
        "group3 = df3[df3['분류 그룹'] == 3]\n",
        "group4 = df3[df3['분류 그룹'] == 4]\n",
        "group5 = df3[df3['분류 그룹'] == 5]\n",
        "group6 = df3[df3['분류 그룹'] == 6]"
      ],
      "execution_count": null,
      "outputs": []
    },
    {
      "cell_type": "code",
      "metadata": {
        "id": "SA0xh05bOHvU"
      },
      "source": [
        "df3['왕복오래달리기'].mean()"
      ],
      "execution_count": null,
      "outputs": []
    },
    {
      "cell_type": "code",
      "metadata": {
        "id": "7orQ-Kk7PcA_"
      },
      "source": [
        "group1.sort_values('제자리 멀리뛰기')"
      ],
      "execution_count": null,
      "outputs": []
    },
    {
      "cell_type": "code",
      "metadata": {
        "id": "z2h2dwdxPrYu"
      },
      "source": [
        "group1.loc[2501,['윗몸 앞으로 굽히기','윗몸일으키기','왕복오래달리기','10M 4회 왕복달리기','제자리 멀리뛰기','상대 악력']]"
      ],
      "execution_count": null,
      "outputs": []
    },
    {
      "cell_type": "code",
      "metadata": {
        "id": "mFO2VrmQmXk0"
      },
      "source": [
        "X = np.arange(6)\n",
        "sport_name = ['윗몸 앞으로 굽히기','윗몸일으키기','왕복오래달리기','10M 4회 왕복달리기','제자리 멀리뛰기','상대 악력'] \n",
        "plt.bar(x+0.00,group1.loc[2501,['윗몸 앞으로 굽히기','윗몸일으키기','왕복오래달리기','10M 4회 왕복달리기','제자리 멀리뛰기','상대 악력']],width = 0.25,label = '참가자')\n",
        "plt.bar(x+0.25,group1[['윗몸 앞으로 굽히기','윗몸일으키기','왕복오래달리기','10M 4회 왕복달리기','제자리 멀리뛰기','상대 악력']].mean(),width = 0.25,label = '그룹 평균')\n",
        "plt.bar(x+0.50,df3[['윗몸 앞으로 굽히기','윗몸일으키기','왕복오래달리기','10M 4회 왕복달리기','제자리 멀리뛰기','상대 악력']].mean(),width = 0.25,label = '전체 평균')\n",
        "plt.legend()\n",
        "plt.xticks(X+0.25,sport_name,rotation = 13)\n",
        "plt.tight_layout()\n",
        "plt.figure(figsize= (20,15))\n",
        "plt.show()"
      ],
      "execution_count": null,
      "outputs": []
    },
    {
      "cell_type": "code",
      "metadata": {
        "id": "X1xgsQwHorJq"
      },
      "source": [
        "group1.loc[2501]\n",
        "group1['그룹 순위'] = group1[['윗몸 앞으로 굽히기','윗몸일으키기','왕복오래달리기','10M 4회 왕복달리기','제자리 멀리뛰기','상대 악력']].rank(method='average', ascending=False).sum(axis = 1).rank(method='dense')\n",
        "df3['전체 순위'] = df3[['윗몸 앞으로 굽히기','윗몸일으키기','왕복오래달리기','10M 4회 왕복달리기','제자리 멀리뛰기','상대 악력']].rank(method='average', ascending=False).sum(axis = 1).rank(method='dense')"
      ],
      "execution_count": null,
      "outputs": []
    },
    {
      "cell_type": "code",
      "metadata": {
        "id": "4nq43g1BuirL"
      },
      "source": [
        "group1 = df3[df3['분류 그룹'] == 1]"
      ],
      "execution_count": null,
      "outputs": []
    },
    {
      "cell_type": "code",
      "metadata": {
        "id": "hFxxn_fnvMJ2"
      },
      "source": [
        "group1"
      ],
      "execution_count": null,
      "outputs": []
    },
    {
      "cell_type": "code",
      "metadata": {
        "id": "UzCqZbHowVAa"
      },
      "source": [
        ""
      ],
      "execution_count": null,
      "outputs": []
    }
  ]
}